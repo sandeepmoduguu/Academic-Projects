{
  "nbformat": 4,
  "nbformat_minor": 0,
  "metadata": {
    "colab": {
      "provenance": []
    },
    "kernelspec": {
      "name": "python3",
      "display_name": "Python 3"
    },
    "language_info": {
      "name": "python"
    }
  },
  "cells": [
    {
      "cell_type": "markdown",
      "source": [
        "**Residential Property Price Prediction: An Integrated Approach using Machine Learning and Optimization Modeling**"
      ],
      "metadata": {
        "id": "lNEcNShiQgpm"
      }
    },
    {
      "cell_type": "markdown",
      "source": [
        "**Setting Up Optimization and Machine Learning with Gurobi and Decision Tree Regressor**"
      ],
      "metadata": {
        "id": "8mOQcRTtPbjT"
      }
    },
    {
      "cell_type": "code",
      "source": [
        "!pip install gurobipy\n",
        "%pip install gurobipy_pandas\n",
        "%pip install gurobi-machinelearning\n",
        "import gurobipy as gp\n",
        "import gurobipy_pandas as gppd\n",
        "from gurobipy import GRB\n",
        "from gurobi_ml import add_predictor_constr\n",
        "import pandas as pd\n",
        "import warnings\n",
        "import numpy as np\n",
        "from sklearn.tree import DecisionTreeRegressor"
      ],
      "metadata": {
        "colab": {
          "base_uri": "https://localhost:8080/"
        },
        "id": "pdaQAWOiQdu2",
        "outputId": "6d796b9b-5ebc-4544-d1d2-2a18ddbc6d95"
      },
      "execution_count": 1,
      "outputs": [
        {
          "output_type": "stream",
          "name": "stdout",
          "text": [
            "Collecting gurobipy\n",
            "  Downloading gurobipy-11.0.0-cp310-cp310-manylinux2014_x86_64.manylinux_2_17_x86_64.whl (13.4 MB)\n",
            "\u001b[2K     \u001b[90m━━━━━━━━━━━━━━━━━━━━━━━━━━━━━━━━━━━━━━━━\u001b[0m \u001b[32m13.4/13.4 MB\u001b[0m \u001b[31m17.0 MB/s\u001b[0m eta \u001b[36m0:00:00\u001b[0m\n",
            "\u001b[?25hInstalling collected packages: gurobipy\n",
            "Successfully installed gurobipy-11.0.0\n",
            "Collecting gurobipy_pandas\n",
            "  Downloading gurobipy_pandas-1.1.0-py3-none-any.whl (19 kB)\n",
            "Requirement already satisfied: gurobipy>=9.1 in /usr/local/lib/python3.10/dist-packages (from gurobipy_pandas) (11.0.0)\n",
            "Requirement already satisfied: pandas>=1.0 in /usr/local/lib/python3.10/dist-packages (from gurobipy_pandas) (1.5.3)\n",
            "Requirement already satisfied: python-dateutil>=2.8.1 in /usr/local/lib/python3.10/dist-packages (from pandas>=1.0->gurobipy_pandas) (2.8.2)\n",
            "Requirement already satisfied: pytz>=2020.1 in /usr/local/lib/python3.10/dist-packages (from pandas>=1.0->gurobipy_pandas) (2023.3.post1)\n",
            "Requirement already satisfied: numpy>=1.21.0 in /usr/local/lib/python3.10/dist-packages (from pandas>=1.0->gurobipy_pandas) (1.23.5)\n",
            "Requirement already satisfied: six>=1.5 in /usr/local/lib/python3.10/dist-packages (from python-dateutil>=2.8.1->pandas>=1.0->gurobipy_pandas) (1.16.0)\n",
            "Installing collected packages: gurobipy_pandas\n",
            "Successfully installed gurobipy_pandas-1.1.0\n",
            "Collecting gurobi-machinelearning\n",
            "  Downloading gurobi_machinelearning-1.4.0-py3-none-any.whl (66 kB)\n",
            "\u001b[2K     \u001b[90m━━━━━━━━━━━━━━━━━━━━━━━━━━━━━━━━━━━━━━━━\u001b[0m \u001b[32m66.7/66.7 kB\u001b[0m \u001b[31m1.6 MB/s\u001b[0m eta \u001b[36m0:00:00\u001b[0m\n",
            "\u001b[?25hRequirement already satisfied: numpy>=1.22.0 in /usr/local/lib/python3.10/dist-packages (from gurobi-machinelearning) (1.23.5)\n",
            "Requirement already satisfied: gurobipy>=10.0.0 in /usr/local/lib/python3.10/dist-packages (from gurobi-machinelearning) (11.0.0)\n",
            "Requirement already satisfied: scipy>=1.9.3 in /usr/local/lib/python3.10/dist-packages (from gurobi-machinelearning) (1.11.4)\n",
            "Installing collected packages: gurobi-machinelearning\n",
            "Successfully installed gurobi-machinelearning-1.4.0\n"
          ]
        }
      ]
    },
    {
      "cell_type": "markdown",
      "source": [
        "**Initializing Gurobi Environment with WLS License Parameters**"
      ],
      "metadata": {
        "id": "YalfAcnXQ48I"
      }
    },
    {
      "cell_type": "code",
      "source": [
        "# Create an environment with your WLS license\n",
        "params = {\n",
        "\"WLSACCESSID\": '545ea438-2072-4ced-911f-c63121e8f7b6',\n",
        "\"WLSSECRET\": 'db6505c8-da5a-40e7-bec8-41f2218cc665',\n",
        "\"LICENSEID\": 2447773,\n",
        "}\n",
        "env = gp.Env(params=params)"
      ],
      "metadata": {
        "colab": {
          "base_uri": "https://localhost:8080/"
        },
        "id": "SDi1AJ8gPdor",
        "outputId": "65e5aa02-8f87-4f23-ddf8-b4e1ede8430f"
      },
      "execution_count": 2,
      "outputs": [
        {
          "output_type": "stream",
          "name": "stdout",
          "text": [
            "Set parameter WLSAccessID\n",
            "Set parameter WLSSecret\n",
            "Set parameter LicenseID to value 2447773\n",
            "Academic license 2447773 - for non-commercial use only - registered to de___@colorado.edu\n"
          ]
        }
      ]
    },
    {
      "cell_type": "markdown",
      "source": [
        "**Exploratory Data Analysis: Correlation Heatmap for Melbourne Housing Features**"
      ],
      "metadata": {
        "id": "pcGN2dxhRNcv"
      }
    },
    {
      "cell_type": "code",
      "source": [
        "%pip install seaborn\n",
        "import seaborn as sns\n",
        "import pandas as pd\n",
        "import matplotlib.pyplot as plt\n",
        "melbourne_data_full = pd.read_csv('/content/north.csv')\n",
        "melbourne_features = ['Rooms', 'Bathroom', 'Landsize', 'Lattitude', 'Longtitude']\n",
        "\n",
        "X = melbourne_data_full[melbourne_features]\n",
        "fig, axes = plt.subplots(nrows=1, ncols=1, figsize=(15, 5))\n",
        "sns.heatmap(melbourne_data_full[['Rooms', 'Bathroom', 'Landsize', 'Lattitude', 'Longtitude', 'Price']].corr(),annot=True, center=0,ax=axes)\n",
        "#hm = sn.heatmap(data = X)\n",
        "\n",
        "# displaying the plotted heatmap\n",
        "plt.show()"
      ],
      "metadata": {
        "colab": {
          "base_uri": "https://localhost:8080/",
          "height": 669
        },
        "id": "_Y0se6qTPkAn",
        "outputId": "9ba63329-1da6-4768-9940-54f0acaf99d3"
      },
      "execution_count": 3,
      "outputs": [
        {
          "output_type": "stream",
          "name": "stdout",
          "text": [
            "Requirement already satisfied: seaborn in /usr/local/lib/python3.10/dist-packages (0.12.2)\n",
            "Requirement already satisfied: numpy!=1.24.0,>=1.17 in /usr/local/lib/python3.10/dist-packages (from seaborn) (1.23.5)\n",
            "Requirement already satisfied: pandas>=0.25 in /usr/local/lib/python3.10/dist-packages (from seaborn) (1.5.3)\n",
            "Requirement already satisfied: matplotlib!=3.6.1,>=3.1 in /usr/local/lib/python3.10/dist-packages (from seaborn) (3.7.1)\n",
            "Requirement already satisfied: contourpy>=1.0.1 in /usr/local/lib/python3.10/dist-packages (from matplotlib!=3.6.1,>=3.1->seaborn) (1.2.0)\n",
            "Requirement already satisfied: cycler>=0.10 in /usr/local/lib/python3.10/dist-packages (from matplotlib!=3.6.1,>=3.1->seaborn) (0.12.1)\n",
            "Requirement already satisfied: fonttools>=4.22.0 in /usr/local/lib/python3.10/dist-packages (from matplotlib!=3.6.1,>=3.1->seaborn) (4.46.0)\n",
            "Requirement already satisfied: kiwisolver>=1.0.1 in /usr/local/lib/python3.10/dist-packages (from matplotlib!=3.6.1,>=3.1->seaborn) (1.4.5)\n",
            "Requirement already satisfied: packaging>=20.0 in /usr/local/lib/python3.10/dist-packages (from matplotlib!=3.6.1,>=3.1->seaborn) (23.2)\n",
            "Requirement already satisfied: pillow>=6.2.0 in /usr/local/lib/python3.10/dist-packages (from matplotlib!=3.6.1,>=3.1->seaborn) (9.4.0)\n",
            "Requirement already satisfied: pyparsing>=2.3.1 in /usr/local/lib/python3.10/dist-packages (from matplotlib!=3.6.1,>=3.1->seaborn) (3.1.1)\n",
            "Requirement already satisfied: python-dateutil>=2.7 in /usr/local/lib/python3.10/dist-packages (from matplotlib!=3.6.1,>=3.1->seaborn) (2.8.2)\n",
            "Requirement already satisfied: pytz>=2020.1 in /usr/local/lib/python3.10/dist-packages (from pandas>=0.25->seaborn) (2023.3.post1)\n",
            "Requirement already satisfied: six>=1.5 in /usr/local/lib/python3.10/dist-packages (from python-dateutil>=2.7->matplotlib!=3.6.1,>=3.1->seaborn) (1.16.0)\n"
          ]
        },
        {
          "output_type": "display_data",
          "data": {
            "text/plain": [
              "<Figure size 1500x500 with 2 Axes>"
            ],
            "image/png": "[encoded data removed]"
          },
          "metadata": {}
        }
      ]
    },
    {
      "cell_type": "markdown",
      "source": [
        "**Data Preparation and Initial Exploration for Melbourne Housing Dataset**"
      ],
      "metadata": {
        "id": "bcCUB73ESAmN"
      }
    },
    {
      "cell_type": "code",
      "source": [
        "melbourne_data = pd.read_csv('/content/north.csv')\n",
        "\n",
        "#cleans the data if there is any missing values in the rows\n",
        "melbourne_data = melbourne_data.dropna(axis=0).reset_index(drop=True)\n",
        "\n",
        "# stores the Price value\n",
        "y = melbourne_data.Price\n",
        "\n",
        "# list of features\n",
        "melbourne_features = ['Rooms', 'Bathroom', 'Landsize', 'Lattitude', 'Longtitude']\n",
        "\n",
        "# converts list of features to dataframe\n",
        "X = melbourne_data[melbourne_features]\n",
        "\n",
        "# statistical summary / display first five rows of data\n",
        "X.describe()\n",
        "X.head()"
      ],
      "metadata": {
        "colab": {
          "base_uri": "https://localhost:8080/",
          "height": 206
        },
        "id": "8YV150xsP7Ty",
        "outputId": "60daa6ba-9851-43d6-cc5e-ec62334477d7"
      },
      "execution_count": 4,
      "outputs": [
        {
          "output_type": "execute_result",
          "data": {
            "text/plain": [
              "   Rooms  Bathroom  Landsize  Lattitude  Longtitude\n",
              "0      2         1       156   -37.8079    144.9934\n",
              "1      3         2       134   -37.8093    144.9944\n",
              "2      4         1       120   -37.8072    144.9941\n",
              "3      3         2       245   -37.8024    144.9993\n",
              "4      2         1       256   -37.8060    144.9954"
            ],
            "text/html": [
              "\n",
              "  <div id=\"df-77ea05d5-b83c-47fd-becf-ea7dd56e83db\" class=\"colab-df-container\">\n",
              "    <div>\n",
              "<style scoped>\n",
              "    .dataframe tbody tr th:only-of-type {\n",
              "        vertical-align: middle;\n",
              "    }\n",
              "\n",
              "    .dataframe tbody tr th {\n",
              "        vertical-align: top;\n",
              "    }\n",
              "\n",
              "    .dataframe thead th {\n",
              "        text-align: right;\n",
              "    }\n",
              "</style>\n",
              "<table border=\"1\" class=\"dataframe\">\n",
              "  <thead>\n",
              "    <tr style=\"text-align: right;\">\n",
              "      <th></th>\n",
              "      <th>Rooms</th>\n",
              "      <th>Bathroom</th>\n",
              "      <th>Landsize</th>\n",
              "      <th>Lattitude</th>\n",
              "      <th>Longtitude</th>\n",
              "    </tr>\n",
              "  </thead>\n",
              "  <tbody>\n",
              "    <tr>\n",
              "      <th>0</th>\n",
              "      <td>2</td>\n",
              "      <td>1</td>\n",
              "      <td>156</td>\n",
              "      <td>-37.8079</td>\n",
              "      <td>144.9934</td>\n",
              "    </tr>\n",
              "    <tr>\n",
              "      <th>1</th>\n",
              "      <td>3</td>\n",
              "      <td>2</td>\n",
              "      <td>134</td>\n",
              "      <td>-37.8093</td>\n",
              "      <td>144.9944</td>\n",
              "    </tr>\n",
              "    <tr>\n",
              "      <th>2</th>\n",
              "      <td>4</td>\n",
              "      <td>1</td>\n",
              "      <td>120</td>\n",
              "      <td>-37.8072</td>\n",
              "      <td>144.9941</td>\n",
              "    </tr>\n",
              "    <tr>\n",
              "      <th>3</th>\n",
              "      <td>3</td>\n",
              "      <td>2</td>\n",
              "      <td>245</td>\n",
              "      <td>-37.8024</td>\n",
              "      <td>144.9993</td>\n",
              "    </tr>\n",
              "    <tr>\n",
              "      <th>4</th>\n",
              "      <td>2</td>\n",
              "      <td>1</td>\n",
              "      <td>256</td>\n",
              "      <td>-37.8060</td>\n",
              "      <td>144.9954</td>\n",
              "    </tr>\n",
              "  </tbody>\n",
              "</table>\n",
              "</div>\n",
              "    <div class=\"colab-df-buttons\">\n",
              "\n",
              "  <div class=\"colab-df-container\">\n",
              "    <button class=\"colab-df-convert\" onclick=\"convertToInteractive('df-77ea05d5-b83c-47fd-becf-ea7dd56e83db')\"\n",
              "            title=\"Convert this dataframe to an interactive table.\"\n",
              "            style=\"display:none;\">\n",
              "\n",
              "  <svg xmlns=\"http://www.w3.org/2000/svg\" height=\"24px\" viewBox=\"0 -960 960 960\">\n",
              "    <path d=\"M120-120v-720h720v720H120Zm60-500h600v-160H180v160Zm220 220h160v-160H400v160Zm0 220h160v-160H400v160ZM180-400h160v-160H180v160Zm440 0h160v-160H620v160ZM180-180h160v-160H180v160Zm440 0h160v-160H620v160Z\"/>\n",
              "  </svg>\n",
              "    </button>\n",
              "\n",
              "  <style>\n",
              "    .colab-df-container {\n",
              "      display:flex;\n",
              "      gap: 12px;\n",
              "    }\n",
              "\n",
              "    .colab-df-convert {\n",
              "      background-color: #E8F0FE;\n",
              "      border: none;\n",
              "      border-radius: 50%;\n",
              "      cursor: pointer;\n",
              "      display: none;\n",
              "      fill: #1967D2;\n",
              "      height: 32px;\n",
              "      padding: 0 0 0 0;\n",
              "      width: 32px;\n",
              "    }\n",
              "\n",
              "    .colab-df-convert:hover {\n",
              "      background-color: #E2EBFA;\n",
              "      box-shadow: 0px 1px 2px rgba(60, 64, 67, 0.3), 0px 1px 3px 1px rgba(60, 64, 67, 0.15);\n",
              "      fill: #174EA6;\n",
              "    }\n",
              "\n",
              "    .colab-df-buttons div {\n",
              "      margin-bottom: 4px;\n",
              "    }\n",
              "\n",
              "    [theme=dark] .colab-df-convert {\n",
              "      background-color: #3B4455;\n",
              "      fill: #D2E3FC;\n",
              "    }\n",
              "\n",
              "    [theme=dark] .colab-df-convert:hover {\n",
              "      background-color: #434B5C;\n",
              "      box-shadow: 0px 1px 3px 1px rgba(0, 0, 0, 0.15);\n",
              "      filter: drop-shadow(0px 1px 2px rgba(0, 0, 0, 0.3));\n",
              "      fill: #FFFFFF;\n",
              "    }\n",
              "  </style>\n",
              "\n",
              "    <script>\n",
              "      const buttonEl =\n",
              "        document.querySelector('#df-77ea05d5-b83c-47fd-becf-ea7dd56e83db button.colab-df-convert');\n",
              "      buttonEl.style.display =\n",
              "        google.colab.kernel.accessAllowed ? 'block' : 'none';\n",
              "\n",
              "      async function convertToInteractive(key) {\n",
              "        const element = document.querySelector('#df-77ea05d5-b83c-47fd-becf-ea7dd56e83db');\n",
              "        const dataTable =\n",
              "          await google.colab.kernel.invokeFunction('convertToInteractive',\n",
              "                                                    [key], {});\n",
              "        if (!dataTable) return;\n",
              "\n",
              "        const docLinkHtml = 'Like what you see? Visit the ' +\n",
              "          '<a target=\"_blank\" href=https://colab.research.google.com/notebooks/data_table.ipynb>data table notebook</a>'\n",
              "          + ' to learn more about interactive tables.';\n",
              "        element.innerHTML = '';\n",
              "        dataTable['output_type'] = 'display_data';\n",
              "        await google.colab.output.renderOutput(dataTable, element);\n",
              "        const docLink = document.createElement('div');\n",
              "        docLink.innerHTML = docLinkHtml;\n",
              "        element.appendChild(docLink);\n",
              "      }\n",
              "    </script>\n",
              "  </div>\n",
              "\n",
              "\n",
              "<div id=\"df-0b22f3c8-8a4d-4d88-a9f0-e0a49fbd3065\">\n",
              "  <button class=\"colab-df-quickchart\" onclick=\"quickchart('df-0b22f3c8-8a4d-4d88-a9f0-e0a49fbd3065')\"\n",
              "            title=\"Suggest charts\"\n",
              "            style=\"display:none;\">\n",
              "\n",
              "<svg xmlns=\"http://www.w3.org/2000/svg\" height=\"24px\"viewBox=\"0 0 24 24\"\n",
              "     width=\"24px\">\n",
              "    <g>\n",
              "        <path d=\"M19 3H5c-1.1 0-2 .9-2 2v14c0 1.1.9 2 2 2h14c1.1 0 2-.9 2-2V5c0-1.1-.9-2-2-2zM9 17H7v-7h2v7zm4 0h-2V7h2v10zm4 0h-2v-4h2v4z\"/>\n",
              "    </g>\n",
              "</svg>\n",
              "  </button>\n",
              "\n",
              "<style>\n",
              "  .colab-df-quickchart {\n",
              "      --bg-color: #E8F0FE;\n",
              "      --fill-color: #1967D2;\n",
              "      --hover-bg-color: #E2EBFA;\n",
              "      --hover-fill-color: #174EA6;\n",
              "      --disabled-fill-color: #AAA;\n",
              "      --disabled-bg-color: #DDD;\n",
              "  }\n",
              "\n",
              "  [theme=dark] .colab-df-quickchart {\n",
              "      --bg-color: #3B4455;\n",
              "      --fill-color: #D2E3FC;\n",
              "      --hover-bg-color: #434B5C;\n",
              "      --hover-fill-color: #FFFFFF;\n",
              "      --disabled-bg-color: #3B4455;\n",
              "      --disabled-fill-color: #666;\n",
              "  }\n",
              "\n",
              "  .colab-df-quickchart {\n",
              "    background-color: var(--bg-color);\n",
              "    border: none;\n",
              "    border-radius: 50%;\n",
              "    cursor: pointer;\n",
              "    display: none;\n",
              "    fill: var(--fill-color);\n",
              "    height: 32px;\n",
              "    padding: 0;\n",
              "    width: 32px;\n",
              "  }\n",
              "\n",
              "  .colab-df-quickchart:hover {\n",
              "    background-color: var(--hover-bg-color);\n",
              "    box-shadow: 0 1px 2px rgba(60, 64, 67, 0.3), 0 1px 3px 1px rgba(60, 64, 67, 0.15);\n",
              "    fill: var(--button-hover-fill-color);\n",
              "  }\n",
              "\n",
              "  .colab-df-quickchart-complete:disabled,\n",
              "  .colab-df-quickchart-complete:disabled:hover {\n",
              "    background-color: var(--disabled-bg-color);\n",
              "    fill: var(--disabled-fill-color);\n",
              "    box-shadow: none;\n",
              "  }\n",
              "\n",
              "  .colab-df-spinner {\n",
              "    border: 2px solid var(--fill-color);\n",
              "    border-color: transparent;\n",
              "    border-bottom-color: var(--fill-color);\n",
              "    animation:\n",
              "      spin 1s steps(1) infinite;\n",
              "  }\n",
              "\n",
              "  @keyframes spin {\n",
              "    0% {\n",
              "      border-color: transparent;\n",
              "      border-bottom-color: var(--fill-color);\n",
              "      border-left-color: var(--fill-color);\n",
              "    }\n",
              "    20% {\n",
              "      border-color: transparent;\n",
              "      border-left-color: var(--fill-color);\n",
              "      border-top-color: var(--fill-color);\n",
              "    }\n",
              "    30% {\n",
              "      border-color: transparent;\n",
              "      border-left-color: var(--fill-color);\n",
              "      border-top-color: var(--fill-color);\n",
              "      border-right-color: var(--fill-color);\n",
              "    }\n",
              "    40% {\n",
              "      border-color: transparent;\n",
              "      border-right-color: var(--fill-color);\n",
              "      border-top-color: var(--fill-color);\n",
              "    }\n",
              "    60% {\n",
              "      border-color: transparent;\n",
              "      border-right-color: var(--fill-color);\n",
              "    }\n",
              "    80% {\n",
              "      border-color: transparent;\n",
              "      border-right-color: var(--fill-color);\n",
              "      border-bottom-color: var(--fill-color);\n",
              "    }\n",
              "    90% {\n",
              "      border-color: transparent;\n",
              "      border-bottom-color: var(--fill-color);\n",
              "    }\n",
              "  }\n",
              "</style>\n",
              "\n",
              "  <script>\n",
              "    async function quickchart(key) {\n",
              "      const quickchartButtonEl =\n",
              "        document.querySelector('#' + key + ' button');\n",
              "      quickchartButtonEl.disabled = true;  // To prevent multiple clicks.\n",
              "      quickchartButtonEl.classList.add('colab-df-spinner');\n",
              "      try {\n",
              "        const charts = await google.colab.kernel.invokeFunction(\n",
              "            'suggestCharts', [key], {});\n",
              "      } catch (error) {\n",
              "        console.error('Error during call to suggestCharts:', error);\n",
              "      }\n",
              "      quickchartButtonEl.classList.remove('colab-df-spinner');\n",
              "      quickchartButtonEl.classList.add('colab-df-quickchart-complete');\n",
              "    }\n",
              "    (() => {\n",
              "      let quickchartButtonEl =\n",
              "        document.querySelector('#df-0b22f3c8-8a4d-4d88-a9f0-e0a49fbd3065 button');\n",
              "      quickchartButtonEl.style.display =\n",
              "        google.colab.kernel.accessAllowed ? 'block' : 'none';\n",
              "    })();\n",
              "  </script>\n",
              "</div>\n",
              "\n",
              "    </div>\n",
              "  </div>\n"
            ]
          },
          "metadata": {},
          "execution_count": 4
        }
      ]
    },
    {
      "cell_type": "markdown",
      "source": [
        "**Decision Tree Regression Model Training and Evaluation for Melbourne Housing Prices**"
      ],
      "metadata": {
        "id": "h6Q5lCgzSj1S"
      }
    },
    {
      "cell_type": "code",
      "source": [
        "from sklearn.tree import DecisionTreeRegressor\n",
        "\n",
        "melbourne_model = DecisionTreeRegressor(random_state=0)\n",
        "\n",
        "# Train/Fit model\n",
        "melbourne_model.fit(X, y)\n",
        "print(\"Making predictions for the following 5 houses:\")\n",
        "print(X.head())\n",
        "print(\"The predictions are\")\n",
        "print(melbourne_model.predict(X.head()))\n",
        "\n",
        "# to measure accuracy of the regression model\n",
        "from sklearn.metrics import mean_absolute_error\n",
        "\n",
        "predicted_home_prices = melbourne_model.predict(X)\n",
        "\n",
        "# to determine the accuracy\n",
        "mean_absolute_error(y, predicted_home_prices)\n",
        "\n",
        "# split dataset into training and testing set\n",
        "from sklearn.model_selection import train_test_split\n",
        "\n",
        "# split data into training and validation data, for both features and target\n",
        "# The split is based on a random number generator. Supplying a numeric value to\n",
        "# the random_state argument guarantees we get the same split every time we\n",
        "# run this script.\n",
        "train_X, val_X, train_y, val_y = train_test_split(X, y, random_state = 0)\n",
        "\n",
        "# OneHotEncoder - converts the categorical data\n",
        "from sklearn.preprocessing import OneHotEncoder\n",
        "from sklearn.preprocessing import StandardScaler\n",
        "from sklearn.compose import make_column_transformer\n",
        "from sklearn.linear_model import LinearRegression\n",
        "from sklearn.pipeline import make_pipeline\n",
        "from sklearn.metrics import r2_score\n",
        "from sklearn.tree import DecisionTreeRegressor\n",
        "\n",
        "# retrained the model on the training set\n",
        "melbourne_model.fit(train_X, train_y)\n",
        "\n",
        "# prediction on the test/validation set\n",
        "y_pred = melbourne_model.predict(val_X)\n",
        "\n",
        "# calculate the R squared score\n",
        "from sklearn.metrics import r2_score\n",
        "value1 = np.round(r2_score(val_y, y_pred))\n",
        "print(value1)"
      ],
      "metadata": {
        "colab": {
          "base_uri": "https://localhost:8080/"
        },
        "id": "aRr4yZ0IR1G2",
        "outputId": "f4ed0b73-0532-47a1-9c38-c00dd025a56e"
      },
      "execution_count": 5,
      "outputs": [
        {
          "output_type": "stream",
          "name": "stdout",
          "text": [
            "Making predictions for the following 5 houses:\n",
            "   Rooms  Bathroom  Landsize  Lattitude  Longtitude\n",
            "0      2         1       156   -37.8079    144.9934\n",
            "1      3         2       134   -37.8093    144.9944\n",
            "2      4         1       120   -37.8072    144.9941\n",
            "3      3         2       245   -37.8024    144.9993\n",
            "4      2         1       256   -37.8060    144.9954\n",
            "The predictions are\n",
            "[1035000. 1465000. 1600000. 1876000. 1636000.]\n",
            "1.0\n"
          ]
        }
      ]
    },
    {
      "cell_type": "markdown",
      "source": [
        "**Integrating and Displaying Predictions in the Validation Dataset**"
      ],
      "metadata": {
        "id": "kpnFPbuMKn_h"
      }
    },
    {
      "cell_type": "code",
      "source": [
        "# Prediction on the validation dataset\n",
        "val_predictions = melbourne_model.predict(val_X)\n",
        "\n",
        "# Displaying the predictions\n",
        "print(\"Predictions on the validation data:\")\n",
        "print(val_predictions)"
      ],
      "metadata": {
        "colab": {
          "base_uri": "https://localhost:8080/"
        },
        "id": "rXXAJISxCkx-",
        "outputId": "1682d852-d676-48b2-f82f-c86e337b80ef"
      },
      "execution_count": 6,
      "outputs": [
        {
          "output_type": "stream",
          "name": "stdout",
          "text": [
            "Predictions on the validation data:\n",
            "[1030000. 1095000.  521500.  265000.  601000.  646000.  765000. 1075000.\n",
            " 1205000.  860000.  440000.  921500. 2000000.  763000. 1271000.  700000.\n",
            "  860000. 1008000.  730000.  598000. 1300000.  358500.  265000. 1650000.\n",
            "  451000. 1950000.  825000. 1075000.  285000. 1326000.  745000.  641000.\n",
            "  710000.  822000.  825000. 1581000.  420500.  950000. 2175000. 1290000.\n",
            " 1581000.  820000. 1045000. 1300000.  600000.  601000.  610000.  370000.\n",
            "  807000. 1155000.  850000.  440000.  370000. 1260000.  407500. 1260000.\n",
            " 1370000.  680000.  860000. 1165000.  765000.  700000.  600000. 1105000.\n",
            "  505000.  407500. 1200000.  521500. 1875000.  800000.  765000.  784000.\n",
            "  921500.  537000.  820000.  985000. 1150000.  822000.  784000.  935000.\n",
            " 1290000.  610000. 1326000. 2718000. 1210000.  700000.  772000. 1209000.\n",
            "  672000. 1000000.  550000.  540000.  703000. 1581000. 1160000.  700000.\n",
            "  885500. 1037000.  745000.  921500.  850000.  700000. 4011000.  625000.\n",
            "  711500. 1135000. 1222500. 1080000.  540000.  625000.  640000. 1209000.\n",
            "  650000. 1125000. 1315000. 2718000.  860000.  588000. 1012000.  358500.\n",
            "  625000. 1265000. 1340000.  515000.  825000. 1742000. 1340000.  722000.\n",
            " 1876000. 1636000. 1435000.]\n"
          ]
        }
      ]
    },
    {
      "cell_type": "markdown",
      "source": [
        "**Model 1: Linear Regression Model Optimization using Gurobi Solver**"
      ],
      "metadata": {
        "id": "Y-gIpzOHaG_4"
      }
    },
    {
      "cell_type": "code",
      "source": [
        "# Initialize Gurobi\n",
        "df = train_X\n",
        "m1 = gp.Model(env=env)\n",
        "\n",
        "# 1. Specify decisions\n",
        "room_weight = m1.addVar(name=\"w_room\", lb=0)\n",
        "bath_weight = m1.addVar(name=\"w_bath\", lb=0)\n",
        "landsize_weight = m1.addVar(name=\"w_ls\", lb=0)\n",
        "lattitude_weight = m1.addVar(name=\"w_lat\", lb=0)\n",
        "longtitude_weight = m1.addVar (name =\"w_lon\", lb=0)\n",
        "intercept_weight = m1.addVar(name=\"w_int\", lb=0)\n",
        "\n",
        "o = m1.addVars(df.index, name=\"over\")\n",
        "u = m1.addVars(df.index, name=\"under\")\n",
        "\n",
        "# 2. Specify objective\n",
        "objective_expr = (gp.quicksum(o[i] for i in df.index) +\n",
        "                  gp.quicksum(u[i] for i in df.index)\n",
        ")\n",
        "m1.setObjective(objective_expr, gp.GRB.MINIMIZE)\n",
        "\n",
        "# 3. Specify constraints\n",
        "for i in df.index:\n",
        "    lhs = df['Rooms'][i] * room_weight\n",
        "    lhs += df['Bathroom'][i] * bath_weight\n",
        "    lhs += df['Landsize'][i] * landsize_weight\n",
        "    lhs += df['Lattitude'][i]* lattitude_weight\n",
        "    lhs += df['Longtitude'][i]* longtitude_weight\n",
        "    lhs += intercept_weight\n",
        "\n",
        "    # Add constraint\n",
        "    m1.addConstr(lhs == train_y[i] + o[i] - u[i], f\"cnst_{i}\")"
      ],
      "metadata": {
        "id": "OxWLAQkv7vBb"
      },
      "execution_count": 7,
      "outputs": []
    },
    {
      "cell_type": "markdown",
      "source": [
        "**Executing and Analyzing the Gurobi Linear Regression Model Optimization Results**"
      ],
      "metadata": {
        "id": "PzD9RiA473dT"
      }
    },
    {
      "cell_type": "code",
      "source": [
        "# Perform optimization\n",
        "m1.optimize()\n",
        "\n",
        "print(f\"objective value: {m1.objVal}\")\n",
        "\n",
        "print(f\"room_weight : {room_weight.X}\")\n",
        "print(f\"bath_weight : {bath_weight.X}\")\n",
        "print(f\"landsize_weight : {landsize_weight.X}\")\n",
        "print(f\"latitude_weight : {lattitude_weight.X}\")\n",
        "print(f\"longtitude_weight : {longtitude_weight.X}\")\n",
        "print(f\"intercept : {intercept_weight.X}\")"
      ],
      "metadata": {
        "colab": {
          "base_uri": "https://localhost:8080/"
        },
        "id": "H7qplE8Z7wrv",
        "outputId": "208ac466-179a-44c1-ed0c-68bf73dc8e15"
      },
      "execution_count": 8,
      "outputs": [
        {
          "output_type": "stream",
          "name": "stdout",
          "text": [
            "Gurobi Optimizer version 11.0.0 build v11.0.0rc2 (linux64 - \"Ubuntu 22.04.3 LTS\")\n",
            "\n",
            "CPU model: Intel(R) Xeon(R) CPU @ 2.20GHz, instruction set [SSE2|AVX|AVX2]\n",
            "Thread count: 1 physical cores, 2 logical processors, using up to 2 threads\n",
            "\n",
            "Academic license 2447773 - for non-commercial use only - registered to de___@colorado.edu\n",
            "Optimize a model with 392 rows, 790 columns and 3051 nonzeros\n",
            "Model fingerprint: 0x21d5cc4a\n",
            "Coefficient statistics:\n",
            "  Matrix range     [1e+00, 5e+03]\n",
            "  Objective range  [1e+00, 1e+00]\n",
            "  Bounds range     [0e+00, 0e+00]\n",
            "  RHS range        [1e+05, 4e+06]\n",
            "Presolve time: 0.04s\n",
            "Presolved: 392 rows, 790 columns, 3051 nonzeros\n",
            "\n",
            "Iteration    Objective       Primal Inf.    Dual Inf.      Time\n",
            "       0    0.0000000e+00   2.234281e+07   0.000000e+00      0s\n",
            "     678    1.1307592e+08   0.000000e+00   0.000000e+00      0s\n",
            "\n",
            "Solved in 678 iterations and 0.17 seconds (0.02 work units)\n",
            "Optimal objective  1.130759209e+08\n",
            "objective value: 113075920.90485606\n",
            "room_weight : 234984.16239879656\n",
            "bath_weight : 111022.17602217596\n",
            "landsize_weight : 0.0\n",
            "latitude_weight : 0.0\n",
            "longtitude_weight : 338.0491185369236\n",
            "intercept : 0.0\n"
          ]
        }
      ]
    },
    {
      "cell_type": "markdown",
      "source": [
        "**Comparison of Model Performance through MAE and R²: Decision Tree Regressor vs Gurobi Optimized Linear Regression**"
      ],
      "metadata": {
        "id": "I7zltbvx8UFB"
      }
    },
    {
      "cell_type": "code",
      "source": [
        "# Make predictions and evaluate the Decision Tree Regressor\n",
        "dt_predictions = melbourne_model.predict(val_X)\n",
        "dt_mae = mean_absolute_error(val_y, dt_predictions)\n",
        "dt_r2 = r2_score(val_y, dt_predictions)\n",
        "\n",
        "# Predictions using Gurobi optimization weights\n",
        "# Assuming room_weight, bath_weight, landsize_weight, latitude_weight, intercept_weight are available\n",
        "gurobi_predictions = (val_X['Rooms'] * room_weight.X +\n",
        "                      val_X['Bathroom'] * bath_weight.X +\n",
        "                      val_X['Landsize'] * landsize_weight.X +\n",
        "                      val_X['Lattitude'] * lattitude_weight.X +\n",
        "                      val_X['Longtitude'] * longtitude_weight.X +\n",
        "                      intercept_weight.X)\n",
        "\n",
        "# Step 3: Compare the two sets of predictions\n",
        "# Convert gurobi_predictions to a NumPy array if it isn't already one\n",
        "gurobi_predictions = np.array(gurobi_predictions)\n",
        "\n",
        "# Evaluate the Gurobi model\n",
        "gurobi_mae = mean_absolute_error(val_y, gurobi_predictions)\n",
        "gurobi_r2 = r2_score(val_y, gurobi_predictions)\n",
        "\n",
        "# Compare the models\n",
        "print(f\"Decision Tree - MAE: {dt_mae}, R²: {dt_r2}\")\n",
        "print(f\"Gurobi Optimization - MAE: {gurobi_mae}, R²: {gurobi_r2}\")"
      ],
      "metadata": {
        "colab": {
          "base_uri": "https://localhost:8080/"
        },
        "id": "5ZxTBW8x8Let",
        "outputId": "31e6acde-08ee-4628-b3fa-b4bf552597f3"
      },
      "execution_count": 9,
      "outputs": [
        {
          "output_type": "stream",
          "name": "stdout",
          "text": [
            "Decision Tree - MAE: 185235.57251908397, R²: 0.6583149425599956\n",
            "Gurobi Optimization - MAE: 282595.99930222536, R²: 0.2926115482753421\n"
          ]
        }
      ]
    },
    {
      "cell_type": "markdown",
      "source": [
        "**Model 2: Linear Regression Model Optimization using Gurobi Solver**"
      ],
      "metadata": {
        "id": "NspkTxYW7xRJ"
      }
    },
    {
      "cell_type": "code",
      "source": [
        "# Initialize Gurobi with model name 'm2'\n",
        "m2 = gp.Model()\n",
        "\n",
        "# Specify decisions with non-negativity constraints\n",
        "room_weight = m2.addVar(name=\"w_room\", lb=0)\n",
        "bath_weight = m2.addVar(name=\"w_bath\", lb=0)\n",
        "landsize_weight = m2.addVar(name=\"w_ls\", lb=0)\n",
        "lattitude_weight = m2.addVar(name=\"w_lat\", lb=0)\n",
        "longtitude_weight = m2.addVar(name=\"w_lon\", lb=0)\n",
        "intercept_weight = m2.addVar(name=\"w_int\", lb=0)\n",
        "\n",
        "# Create variables for over- and under-estimation\n",
        "o = m2.addVars(len(train_X), name=\"over\")\n",
        "u = m2.addVars(len(train_X), name=\"under\")\n",
        "\n",
        "# Set the objective function to minimize the sum of over- and under-estimation variables\n",
        "objective_expr = (gp.quicksum(o[i] for i in range(len(train_X))) +\n",
        "                  gp.quicksum(u[i] for i in range(len(train_X))))\n",
        "m2.setObjective(objective_expr, gp.GRB.MINIMIZE)\n",
        "\n",
        "# Add constraints for each data point in the training set\n",
        "for i in range(len(train_X)):\n",
        "    lhs = (train_X.iloc[i]['Rooms'] * room_weight +\n",
        "           train_X.iloc[i]['Bathroom'] * bath_weight +\n",
        "           train_X.iloc[i]['Landsize'] * landsize_weight +\n",
        "           train_X.iloc[i]['Lattitude'] * lattitude_weight +\n",
        "           train_X.iloc[i]['Longtitude'] * longtitude_weight +\n",
        "           intercept_weight)\n",
        "    m2.addConstr(lhs  == train_y.iloc[i]+ o[i] - u[i], f\"cnst_{i}\")\n",
        "\n",
        "# Add new constraints for the updated model\n",
        "m2.addConstr(room_weight <= bath_weight, \"bath_more_than_room\")\n",
        "\n",
        "# Optimize the model 'm2'\n",
        "m2.optimize()\n",
        "\n",
        "# Check the optimal value after adding the new constraints\n",
        "if m2.status == gp.GRB.Status.OPTIMAL:\n",
        "    print(f\"New Optimal Objective Value: {m2.objVal}\")\n",
        "\n",
        "    # Extract variable values from the model\n",
        "    room_weight_val = room_weight.X\n",
        "    bath_weight_val = bath_weight.X\n",
        "    landsize_weight_val = landsize_weight.X\n",
        "    lattitude_weight_val = lattitude_weight.X\n",
        "    longtitude_weight_val = longtitude_weight.X\n",
        "    intercept_weight_val = intercept_weight.X\n",
        "\n",
        "    # Evaluate performance of the optimized model 'm2' on the validation set\n",
        "    optimized_predictions_m2 = [val_X.loc[idx]['Rooms'] * room_weight_val +\n",
        "                                val_X.loc[idx]['Bathroom'] * bath_weight_val +\n",
        "                                val_X.loc[idx]['Landsize'] * landsize_weight_val +\n",
        "                                val_X.loc[idx]['Lattitude'] * lattitude_weight_val +\n",
        "                                val_X.loc[idx]['Longtitude'] * longtitude_weight_val +\n",
        "                                intercept_weight_val for idx in val_X.index]\n",
        "    optimized_predictions_m2 = pd.Series(optimized_predictions_m2, index=val_y.index)\n",
        "    optimized_mae_m2 = mean_absolute_error(val_y, optimized_predictions_m2)\n",
        "    optimized_r2_m2 = r2_score(val_y, optimized_predictions_m2)\n",
        "    print(f\"Optimized Model m2 - MAE: {optimized_mae_m2}, R²: {optimized_r2_m2}\")\n",
        "else:\n",
        "    print(\"Optimization was not successful for model 'm2'.\")\n",
        "\n",
        "# Evaluate performance of the Decision Tree model\n",
        "dt_predictions = melbourne_model.predict(val_X)\n",
        "dt_mae = mean_absolute_error(val_y, dt_predictions)\n",
        "dt_r2 = r2_score(val_y, dt_predictions)\n",
        "print(f\"Decision Tree Model - MAE: {dt_mae}, R²: {dt_r2}\")"
      ],
      "metadata": {
        "colab": {
          "base_uri": "https://localhost:8080/"
        },
        "id": "BBCFLennZtuH",
        "outputId": "05595e65-ddf3-4a4c-be8d-849dc2cc0b8d"
      },
      "execution_count": 10,
      "outputs": [
        {
          "output_type": "stream",
          "name": "stdout",
          "text": [
            "Restricted license - for non-production use only - expires 2025-11-24\n",
            "Gurobi Optimizer version 11.0.0 build v11.0.0rc2 (linux64 - \"Ubuntu 22.04.3 LTS\")\n",
            "\n",
            "CPU model: Intel(R) Xeon(R) CPU @ 2.20GHz, instruction set [SSE2|AVX|AVX2]\n",
            "Thread count: 1 physical cores, 2 logical processors, using up to 2 threads\n",
            "\n",
            "Optimize a model with 393 rows, 790 columns and 3053 nonzeros\n",
            "Model fingerprint: 0x8610a1f8\n",
            "Coefficient statistics:\n",
            "  Matrix range     [1e+00, 5e+03]\n",
            "  Objective range  [1e+00, 1e+00]\n",
            "  Bounds range     [0e+00, 0e+00]\n",
            "  RHS range        [1e+05, 4e+06]\n",
            "Presolve time: 0.01s\n",
            "Presolved: 393 rows, 790 columns, 3053 nonzeros\n",
            "\n",
            "Iteration    Objective       Primal Inf.    Dual Inf.      Time\n",
            "       0    0.0000000e+00   2.234281e+07   0.000000e+00      0s\n",
            "     678    1.1422871e+08   0.000000e+00   0.000000e+00      0s\n",
            "\n",
            "Solved in 678 iterations and 0.05 seconds (0.02 work units)\n",
            "Optimal objective  1.142287084e+08\n",
            "New Optimal Objective Value: 114228708.3998375\n",
            "Optimized Model m2 - MAE: 281674.3354219726, R²: 0.31295824239502434\n",
            "Decision Tree Model - MAE: 185235.57251908397, R²: 0.6583149425599956\n"
          ]
        }
      ]
    },
    {
      "cell_type": "markdown",
      "source": [
        "**Model 3: Linear Regression Model Optimization using Gurobi Solver**"
      ],
      "metadata": {
        "id": "FFY1f-0PLLY4"
      }
    },
    {
      "cell_type": "code",
      "source": [
        "# Initialize Gurobi\n",
        "m3 = gp.Model(env=env)\n",
        "\n",
        "# 1. Specify decisions\n",
        "room_weight_more_than_4 = m3.addVar(name=\"w_room_more_4\")\n",
        "room_weight_4_or_less = m3.addVar(name=\"w_room_4_or_less\")\n",
        "bath_weight_more_than_2 = m3.addVar(name=\"w_bath_more_2\")\n",
        "bath_weight_2_or_less = m3.addVar(name=\"w_bath_2_or_less\")\n",
        "landsize_weight_more_than_2338 = m3.addVar(name=\"w_ls_more_2338\")\n",
        "landsize_weight_2338_or_less = m3.addVar(name=\"w_ls_2338_or_less\")\n",
        "lattitude_weight_above_37_752 = m3.addVar(name=\"w_lat_above_37_752\")\n",
        "lattitude_weight_below_37_752 = m3.addVar(name=\"w_lat_below_37_752\")\n",
        "longtitude_weight_above_144_9686 = m3.addVar(name=\"w_lon_above_144_9686\")\n",
        "longtitude_weight_below_144_9686 = m3.addVar(name=\"w_lon_below_144_9686\")\n",
        "intercept_weight = m3.addVar(name=\"w_int\")\n",
        "\n",
        "o = m3.addVars(df.index, name=\"over\")\n",
        "u = m3.addVars(df.index, name=\"under\")\n",
        "\n",
        "# 2. Specify objective\n",
        "objective_expr = (gp.quicksum(o[i] for i in df.index) + gp.quicksum(u[i] for i in df.index))\n",
        "m3.setObjective(objective_expr, GRB.MINIMIZE)\n",
        "\n",
        "# 3. Specify constraints\n",
        "for i in df.index:\n",
        "    bath_weight = bath_weight_more_than_2 if df['Bathroom'][i] > 2 else bath_weight_2_or_less\n",
        "    room_weight = room_weight_more_than_4 if df['Rooms'][i] > 4 else room_weight_4_or_less\n",
        "    landsize_weight = landsize_weight_more_than_2338 if df['Landsize'][i] > 2338 else landsize_weight_2338_or_less\n",
        "    lattitude_weight = lattitude_weight_above_37_752 if df['Lattitude'][i] > -37.752 else lattitude_weight_below_37_752\n",
        "    longtitude_weight = longtitude_weight_above_144_9686 if df['Longtitude'][i] > 144.9686 else longtitude_weight_below_144_9686\n",
        "\n",
        "    lhs = (room_weight * df['Rooms'][i] +\n",
        "           bath_weight * df['Bathroom'][i] +\n",
        "           landsize_weight * df['Landsize'][i] +\n",
        "           lattitude_weight * df['Lattitude'][i] +\n",
        "           longtitude_weight * df['Longtitude'][i] +\n",
        "           intercept_weight)\n",
        "\n",
        "    # Add constraint\n",
        "    m3.addConstr(lhs == train_y[i] + o[i] - u[i], f\"cnst_{i}\")\n",
        "\n",
        "# Perform optimization\n",
        "m3.optimize()\n",
        "\n",
        "# Print optimized variable values\n",
        "print(f\"Objective Value: {m3.objVal}\")\n",
        "print(f\"Room Weight (More than 4): {room_weight_more_than_4.X}\")\n",
        "print(f\"Room Weight (4 or Less): {room_weight_4_or_less.X}\")\n",
        "print(f\"Bathroom Weight (More than 2): {bath_weight_more_than_2.X}\")\n",
        "print(f\"Bathroom Weight (2 or Less): {bath_weight_2_or_less.X}\")\n",
        "print(f\"Landsize Weight (More than 2338): {landsize_weight_more_than_2338.X}\")\n",
        "print(f\"Landsize Weight (2338 or Less): {landsize_weight_2338_or_less.X}\")\n",
        "print(f\"Lattitude Weight (Above -37.752): {lattitude_weight_above_37_752.X}\")\n",
        "print(f\"Lattitude Weight (Below -37.752): {lattitude_weight_below_37_752.X}\")\n",
        "print(f\"Longtitude Weight (Above 144.9686): {longtitude_weight_above_144_9686.X}\")\n",
        "print(f\"Longtitude Weight (Below 144.9686): {longtitude_weight_below_144_9686.X}\")\n",
        "print(f\"Intercept: {intercept_weight.X}\")"
      ],
      "metadata": {
        "colab": {
          "base_uri": "https://localhost:8080/"
        },
        "id": "VMQEouHWLKlw",
        "outputId": "56c1d096-27a4-4094-fde0-67a132043686"
      },
      "execution_count": 11,
      "outputs": [
        {
          "output_type": "stream",
          "name": "stdout",
          "text": [
            "Gurobi Optimizer version 11.0.0 build v11.0.0rc2 (linux64 - \"Ubuntu 22.04.3 LTS\")\n",
            "\n",
            "CPU model: Intel(R) Xeon(R) CPU @ 2.20GHz, instruction set [SSE2|AVX|AVX2]\n",
            "Thread count: 1 physical cores, 2 logical processors, using up to 2 threads\n",
            "\n",
            "Academic license 2447773 - for non-commercial use only - registered to de___@colorado.edu\n",
            "Optimize a model with 392 rows, 795 columns and 3051 nonzeros\n",
            "Model fingerprint: 0xfcd74eb2\n",
            "Coefficient statistics:\n",
            "  Matrix range     [1e+00, 5e+03]\n",
            "  Objective range  [1e+00, 1e+00]\n",
            "  Bounds range     [0e+00, 0e+00]\n",
            "  RHS range        [1e+05, 4e+06]\n",
            "Presolve time: 0.01s\n",
            "Presolved: 392 rows, 795 columns, 3051 nonzeros\n",
            "\n",
            "Iteration    Objective       Primal Inf.    Dual Inf.      Time\n",
            "       0    0.0000000e+00   2.228027e+07   0.000000e+00      0s\n",
            "     466    9.2972037e+07   0.000000e+00   0.000000e+00      0s\n",
            "\n",
            "Solved in 466 iterations and 0.05 seconds (0.01 work units)\n",
            "Optimal objective  9.297203670e+07\n",
            "Objective Value: 92972036.70469666\n",
            "Room Weight (More than 4): 196437.94538957148\n",
            "Room Weight (4 or Less): 289229.1449076131\n",
            "Bathroom Weight (More than 2): 70959.42755556254\n",
            "Bathroom Weight (2 or Less): 45620.814746083066\n",
            "Landsize Weight (More than 2338): 0.0\n",
            "Landsize Weight (2338 or Less): 201.21458563606473\n",
            "Lattitude Weight (Above -37.752): 8837.19080904186\n",
            "Lattitude Weight (Below -37.752): 0.0\n",
            "Longtitude Weight (Above 144.9686): 1553.420414183361\n",
            "Longtitude Weight (Below 144.9686): 105.54385629422791\n",
            "Intercept: 0.0\n"
          ]
        }
      ]
    },
    {
      "cell_type": "markdown",
      "source": [
        "\n",
        "**Assessing the Performance of Gurobi-Optimized Residential Property Price Model: MAE and R² Evaluation on Validation Set**"
      ],
      "metadata": {
        "id": "XOy6fiexP52O"
      }
    },
    {
      "cell_type": "code",
      "source": [
        "import numpy as np\n",
        "from sklearn.metrics import mean_absolute_error, r2_score\n",
        "\n",
        "# Predict prices using the optimized model for the validation set\n",
        "predicted_prices_val = []\n",
        "for i in val_X.index:\n",
        "    predicted_price_val = (\n",
        "        val_X.loc[i, 'Rooms'] * (room_weight_more_than_4.X if val_X.loc[i, 'Rooms'] > 4 else room_weight_4_or_less.X) +\n",
        "        val_X.loc[i, 'Bathroom'] * (bath_weight_more_than_2.X if val_X.loc[i, 'Bathroom'] > 2 else bath_weight_2_or_less.X) +\n",
        "        val_X.loc[i, 'Landsize'] * (landsize_weight_more_than_2338.X if val_X.loc[i, 'Landsize'] > 2338 else landsize_weight_2338_or_less.X) +\n",
        "        val_X.loc[i, 'Lattitude'] * (lattitude_weight_above_37_752.X if val_X.loc[i, 'Lattitude'] > -37.752 else lattitude_weight_below_37_752.X) +\n",
        "        val_X.loc[i, 'Longtitude'] * (longtitude_weight_above_144_9686.X if val_X.loc[i, 'Longtitude'] > 144.9686 else longtitude_weight_below_144_9686.X) +\n",
        "        intercept_weight.X\n",
        "    )\n",
        "    predicted_prices_val.append(predicted_price_val)\n",
        "\n",
        "predicted_prices_val = np.array(predicted_prices_val)\n",
        "\n",
        "# Calculate MAE and R² for the validation set\n",
        "mae_val = mean_absolute_error(val_y, predicted_prices_val)\n",
        "r_squared_val = r2_score(val_y, predicted_prices_val)\n",
        "\n",
        "print(f\"Mean Absolute Error (MAE) on Validation Set: {mae_val}\")\n",
        "print(f\"R-squared (R²) on Validation Set: {r_squared_val}\")"
      ],
      "metadata": {
        "colab": {
          "base_uri": "https://localhost:8080/"
        },
        "id": "GI0SB-oLNAfK",
        "outputId": "03d8131c-7321-40d5-b37a-13223b0b2448"
      },
      "execution_count": 12,
      "outputs": [
        {
          "output_type": "stream",
          "name": "stdout",
          "text": [
            "Mean Absolute Error (MAE) on Validation Set: 244288.59306652332\n",
            "R-squared (R²) on Validation Set: 0.5372029625549789\n"
          ]
        }
      ]
    },
    {
      "cell_type": "markdown",
      "source": [
        "**Plotting Error Distributions for Decision Tree and Gurobi Optimized Regression Models**"
      ],
      "metadata": {
        "id": "f8DVE_ljadZH"
      }
    },
    {
      "cell_type": "code",
      "source": [
        "import matplotlib.pyplot as plt\n",
        "import numpy as np\n",
        "from sklearn.metrics import mean_absolute_error\n",
        "from sklearn.model_selection import train_test_split\n",
        "from sklearn.tree import DecisionTreeRegressor\n",
        "\n",
        "# Assuming that the dataset and necessary variables are already loaded and available\n",
        "\n",
        "# Train the Decision Tree Regressor and make predictions\n",
        "melbourne_model = DecisionTreeRegressor(random_state=0)\n",
        "melbourne_model.fit(train_X, train_y)\n",
        "dt_predictions = melbourne_model.predict(val_X)\n",
        "\n",
        "# Calculate errors for Decision Tree Regressor\n",
        "dt_errors = val_y - dt_predictions\n",
        "\n",
        "# Predictions using Gurobi optimization weights\n",
        "# Replace these values with the actual weights obtained from your Gurobi model\n",
        "room_weight_value_more_4 = 196437.94538957148  # replace with actual value\n",
        "room_weight_value_4_or_less = 289229.1449076131  # replace with actual value\n",
        "bath_weight_value_more_2 = 70959.42755556254  # replace with actual value\n",
        "bath_weight_value_2_or_less = 45620.814746083066  # replace with actual value\n",
        "landsize_weight_value_more_2338 = 0  # replace with actual value\n",
        "landsize_weight_value_2338_or_less = 201.21458563606473  # replace with actual value\n",
        "lattitude_weight_value_above_37_752 = 8837.19080904186  # replace with actual value\n",
        "lattitude_weight_value_below_37_752 = 0  # replace with actual value\n",
        "longtitude_weight_value_above_144_9686 = 1553.420414183361  # replace with actual value\n",
        "longtitude_weight_value_below_144_9686 = 105.54385629422791  # replace with actual value\n",
        "intercept_weight_value = 0  # replace with actual value\n",
        "\n",
        "gurobi_predictions = (val_X.apply(lambda row: (room_weight_value_more_4 if row['Rooms'] > 4 else room_weight_value_4_or_less) * row['Rooms'] +\n",
        "                                  (bath_weight_value_more_2 if row['Bathroom'] > 2 else bath_weight_value_2_or_less) * row['Bathroom'] +\n",
        "                                  (landsize_weight_value_more_2338 if row['Landsize'] > 2338 else landsize_weight_value_2338_or_less) * row['Landsize'] +\n",
        "                                  (lattitude_weight_value_above_37_752 if row['Lattitude'] > -37.752 else lattitude_weight_value_below_37_752) * row['Lattitude'] +\n",
        "                                  (longtitude_weight_value_above_144_9686 if row['Longtitude'] > 144.9686 else longtitude_weight_value_below_144_9686) * row['Longtitude'] +\n",
        "                                  intercept_weight_value, axis=1))\n",
        "\n",
        "# Calculate errors for Gurobi model\n",
        "gurobi_errors = val_y - gurobi_predictions\n",
        "\n",
        "# Plotting the histograms\n",
        "plt.figure(figsize=(12, 6))\n",
        "\n",
        "plt.hist(dt_errors, bins=30, alpha=0.5, label='Decision Tree Errors', color='blue')\n",
        "plt.hist(gurobi_errors, bins=30, alpha=0.5, label='Gurobi Model Errors', color='orange')\n",
        "\n",
        "plt.xlabel('Error')\n",
        "plt.ylabel('Frequency')\n",
        "plt.title('Comparison of Error Distributions: Decision Tree vs Gurobi Model')\n",
        "plt.legend()\n",
        "plt.grid(True)\n",
        "plt.show()"
      ],
      "metadata": {
        "colab": {
          "base_uri": "https://localhost:8080/",
          "height": 564
        },
        "id": "UDkz6ghNYzjR",
        "outputId": "5ba0c15c-ab4d-4d98-e957-f78adbbd54b7"
      },
      "execution_count": 13,
      "outputs": [
        {
          "output_type": "display_data",
          "data": {
            "text/plain": [
              "<Figure size 1200x600 with 1 Axes>"
            ],
            "image/png": "[encoded data removed]"
          },
          "metadata": {}
        }
      ]
    },
    {
      "cell_type": "markdown",
      "source": [
        "\n",
        "**Analyzing Predictive Accuracy and Visualizing Price Estimations: Decision Tree and Gurobi Models**"
      ],
      "metadata": {
        "id": "4BAPNFFwd1xD"
      }
    },
    {
      "cell_type": "code",
      "source": [
        "import matplotlib.pyplot as plt\n",
        "import numpy as np\n",
        "from sklearn.metrics import mean_absolute_error\n",
        "from sklearn.tree import DecisionTreeRegressor\n",
        "\n",
        "# Assuming the Decision Tree model (melbourne_model) and data (train_X, train_y, val_X, val_y) are already defined and loaded\n",
        "\n",
        "# Train the Decision Tree Regressor and make predictions\n",
        "melbourne_model.fit(train_X, train_y)\n",
        "dtree_predictions = melbourne_model.predict(val_X)\n",
        "\n",
        "# Gurobi Predictions using the weights from the Gurobi optimization model\n",
        "# Replace these with the actual weights from your Gurobi model\n",
        "gurobi_predictions = (val_X.apply(lambda row: (room_weight_value_more_4 if row['Rooms'] > 4 else room_weight_value_4_or_less) * row['Rooms'] +\n",
        "                                  (bath_weight_value_more_2 if row['Bathroom'] > 2 else bath_weight_value_2_or_less) * row['Bathroom'] +\n",
        "                                  (landsize_weight_value_more_2338 if row['Landsize'] > 2338 else landsize_weight_value_2338_or_less) * row['Landsize'] +\n",
        "                                  (lattitude_weight_value_above_37_752 if row['Lattitude'] > -37.752 else lattitude_weight_value_below_37_752) * row['Lattitude'] +\n",
        "                                  (longtitude_weight_value_above_144_9686 if row['Longtitude'] > 144.9686 else longtitude_weight_value_below_144_9686) * row['Longtitude'] +\n",
        "                                  intercept_weight_value, axis=1))\n",
        "\n",
        "# Calculate the mean absolute error for both sets of predictions\n",
        "dtree_mae = mean_absolute_error(val_y, dtree_predictions)\n",
        "gurobi_mae = mean_absolute_error(val_y, gurobi_predictions)\n",
        "\n",
        "print(f\"Decision Tree Regressor MAE: {dtree_mae}\")\n",
        "print(f\"Gurobi Optimization Model MAE: {gurobi_mae}\")\n",
        "\n",
        "# Calculate the average prices\n",
        "average_actual_price = np.mean(val_y)\n",
        "average_dtree_prediction = np.mean(dtree_predictions)\n",
        "average_gurobi_prediction = np.mean(gurobi_predictions)\n",
        "\n",
        "# Print the average prices\n",
        "print(f\"Average Actual Price: {average_actual_price}\")\n",
        "print(f\"Average ML Predicted Price: {average_dtree_prediction}\")\n",
        "print(f\"Average Optimization Predicted Price: {average_gurobi_prediction}\")\n",
        "\n",
        "# Data to plot\n",
        "averages = [average_actual_price, average_dtree_prediction, average_gurobi_prediction]\n",
        "labels = ['Actual Price', 'Machine Learning', 'Gurobi Prediction']\n",
        "\n",
        "# Plotting\n",
        "plt.figure(figsize=(8, 5))\n",
        "\n",
        "# Bar chart\n",
        "plt.bar(labels, averages, color=['blue', 'green', 'red'])\n",
        "\n",
        "# Adding labels and title\n",
        "plt.ylabel('Average Price')\n",
        "plt.title('Comparison of Average Actual Price and Predictions')\n",
        "\n",
        "# Display the plot\n",
        "plt.tight_layout()\n",
        "plt.show()"
      ],
      "metadata": {
        "colab": {
          "base_uri": "https://localhost:8080/",
          "height": 596
        },
        "id": "6FetJc-ogrkF",
        "outputId": "43f9b0d1-5e57-4d99-9b7e-917fe40642aa"
      },
      "execution_count": 14,
      "outputs": [
        {
          "output_type": "stream",
          "name": "stdout",
          "text": [
            "Decision Tree Regressor MAE: 185235.57251908397\n",
            "Gurobi Optimization Model MAE: 244288.59306652332\n",
            "Average Actual Price: 950691.145038168\n",
            "Average ML Predicted Price: 970690.8396946564\n",
            "Average Optimization Predicted Price: 882912.4862776746\n"
          ]
        },
        {
          "output_type": "display_data",
          "data": {
            "text/plain": [
              "<Figure size 800x500 with 1 Axes>"
            ],
            "image/png": "[encoded data removed]"
          },
          "metadata": {}
        }
      ]
    }
  ]
}